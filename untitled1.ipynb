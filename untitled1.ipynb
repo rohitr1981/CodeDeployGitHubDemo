{
  "nbformat": 4,
  "nbformat_minor": 0,
  "metadata": {
    "colab": {
      "provenance": [],
      "authorship_tag": "ABX9TyNUdZt2w/iF44BgLkAht22i",
      "include_colab_link": true
    },
    "kernelspec": {
      "name": "python3",
      "display_name": "Python 3"
    },
    "language_info": {
      "name": "python"
    },
    "gpuClass": "standard"
  },
  "cells": [
    {
      "cell_type": "markdown",
      "metadata": {
        "id": "view-in-github",
        "colab_type": "text"
      },
      "source": [
        "<a href=\"https://colab.research.google.com/github/rohitr1981/CodeDeployGitHubDemo/blob/main/untitled1.ipynb\" target=\"_parent\"><img src=\"https://colab.research.google.com/assets/colab-badge.svg\" alt=\"Open In Colab\"/></a>"
      ]
    },
    {
      "cell_type": "code",
      "execution_count": null,
      "metadata": {
        "id": "gepqzBuftnE0",
        "colab": {
          "base_uri": "https://localhost:8080/"
        },
        "outputId": "692b3ab2-1270-4323-b11c-fc81a0220cd7"
      },
      "outputs": [
        {
          "output_type": "stream",
          "name": "stdout",
          "text": [
            "Hello\n"
          ]
        }
      ],
      "source": [
        "print (\"Hello\")"
      ]
    },
    {
      "cell_type": "code",
      "source": [
        "list1 = [1,2,3, \"Hello\", \"Python\", [4,5, \"How\", \"Are\", \"You\"]]\n",
        "print(list1[::-1])\n",
        "print(list1[-1])\n",
        "print(list1[-1][1])\n",
        "print(list1[-1][-2])\n",
        "list2=[10,9,8,7,6,5,4,3,2,1,0]\n",
        "print(list2[-6::-2])"
      ],
      "metadata": {
        "colab": {
          "base_uri": "https://localhost:8080/"
        },
        "id": "6FfwHz0IvSuo",
        "outputId": "692d71fd-50ad-4ff5-edcc-473df918e2db"
      },
      "execution_count": null,
      "outputs": [
        {
          "output_type": "stream",
          "name": "stdout",
          "text": [
            "[[4, 5, 'How', 'Are', 'You'], 'Python', 'Hello', 3, 2, 1]\n",
            "[4, 5, 'How', 'Are', 'You']\n",
            "5\n",
            "Are\n",
            "[5, 7, 9]\n"
          ]
        }
      ]
    }
  ]
}